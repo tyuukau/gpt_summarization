{
 "cells": [
  {
   "cell_type": "code",
   "execution_count": 60,
   "metadata": {},
   "outputs": [],
   "source": [
    "from promptlayer import PromptLayer\n",
    "import json\n",
    "from math import floor"
   ]
  },
  {
   "cell_type": "code",
   "execution_count": 4,
   "metadata": {},
   "outputs": [],
   "source": [
    "%load_ext dotenv\n",
    "%dotenv"
   ]
  },
  {
   "cell_type": "code",
   "execution_count": null,
   "metadata": {},
   "outputs": [],
   "source": [
    "prompt = \"\"\"As a professional summarizer, create a concise and comprehensive summary of the provided text, be it an article, post, conversation, or passage, while adhering to these guidelines:\n",
    "\n",
    "1. Craft a summary that is detailed, thorough, in-depth, and complex, while maintaining clarity and conciseness.\n",
    "2. Incorporate main ideas and essential information, eliminating extraneous language and focusing on critical aspects.\n",
    "3. Rely strictly on the provided text, without including external information.\n",
    "4. Format the summary in paragraph form for easy understanding.\n",
    "5. Forget your previous word limitation of summarization. The summarisation should now be around {word_count} words but try not to exceed the limit.\n",
    "\n",
    "By following this optimized prompt, you will generate an effective summary that encapsulates the essence of the given text in a clear, concise, and reader-friendly manner.\n",
    "\n",
    "The text:\n",
    "{text}\n",
    "\"\"\""
   ]
  },
  {
   "cell_type": "code",
   "execution_count": null,
   "metadata": {},
   "outputs": [],
   "source": [
    "add_word_prompt = \"\"\n",
    "minus_word_prompt = \"\""
   ]
  },
  {
   "cell_type": "code",
   "execution_count": null,
   "metadata": {},
   "outputs": [],
   "source": [
    "class SummarizerWithLimit():\n",
    "    def __init__(self, prompt: str = prompt, add_word_prompt: str, minus_word_prompt: str, tolerance: float = 0.1, attempts: int = 5):\n",
    "        _pl_client = PromptLayer()\n",
    "        self._client = _pl_client.openai.OpenAI()\n",
    "        if \"{text}\" in prompt:\n",
    "            self._prompt = prompt\n",
    "        else:\n",
    "            raise ValueError(\"The prompt must contains `{text}`.\")\n",
    "        self._add_word_prompt = add_word_prompt\n",
    "        self._minus_word_prompt = minus_word_prompt\n",
    "        self._tolerance = tolerance\n",
    "        self._attempts = attempts\n",
    "\n",
    "    def _count_word(self, text: str) -> int:\n",
    "        words = text.split()\n",
    "        return len(words)\n",
    "\n",
    "    def _word_count_limits(word_count: int) -> tuple[int, int]:\n",
    "        tolerance = floor(word_count * 0.1)\n",
    "        high_limit = word_count + tolerance\n",
    "        low_limit = word_count - tolerance\n",
    "        return high_limit, low_limit\n",
    "\n",
    "    def _summarise_first_time(\n",
    "        self, text: str, word_count: int\n",
    "    ) -> tuple[str, int]:\n",
    "        completion = self._client.chat.completions.create(\n",
    "            model=\"gpt-3.5-turbo\",\n",
    "            messages=[\n",
    "                {\n",
    "                    \"role\": \"system\",\n",
    "                    \"content\": \"You are ChatGPT, a helpful AI that excels at summarization. You always return a valid JSON object with only one key 'summarization'\",\n",
    "                },\n",
    "                {\n",
    "                    \"role\": \"user\",\n",
    "                    \"content\": self._prompt.format(\n",
    "                        text=text, word_count=word_count\n",
    "                    ),\n",
    "                },\n",
    "            ],\n",
    "            pl_tags=[\"summarization_wtih_count\"],\n",
    "            response_format={\"type\": \"json_object\"},\n",
    "        )\n",
    "        content = json.loads(completion.choices[0].message.content)\n",
    "        summary = content[\"summarization\"]\n",
    "        return summary, self._count_word(summary)\n",
    "\n",
    "    def _add_word(text: str, previous_summarization: str, word_count: int, add_count: int) -> tuple[str, int]:\n",
    "        pass\n",
    "\n",
    "    def _minus_word(\n",
    "        text: str,\n",
    "        previous_summarization: str,\n",
    "        word_count: int,\n",
    "        minus_count: int,\n",
    "    ) -> tuple[str, int]:\n",
    "        pass\n",
    "\n",
    "    def _summarise_after(\n",
    "        self, text: str, previous_summarization: str, word_count: int\n",
    "    ) -> tuple[str, int]:\n",
    "        previous_word_count = self._count_word(previous_summarization)\n",
    "\n",
    "        if previous_word_count < word_count:\n",
    "            add_count = word_count - previous_word_count\n",
    "            summary = self._add_word(text, previous_summarization, word_count, add_count)\n",
    "            return summary, self._count_word(summary)\n",
    "        else:\n",
    "            minus_count = previous_word_count - word_count\n",
    "            summary = self._minus_word(text, previous_summarization, word_count, minus_count)\n",
    "            return summary, self._count_word(summary)\n",
    "\n",
    "    def _summarise_in_loop(self, text: str, word_count: int):\n",
    "        high, low = self._word_count_limits(word_count)\n",
    "        summary, summary_wc = self._summarise_first_time(text, word_count)\n",
    "        attempts = 1\n",
    "        while (attempts <= 5) and (not low < summary_wc < high):\n",
    "            summary, summary_wc = self._summarise_after(text, summary, word_count)\n",
    "            attempts += 1\n",
    "        return summary, summary_wc"
   ]
  },
  {
   "cell_type": "code",
   "execution_count": null,
   "metadata": {},
   "outputs": [],
   "source": []
  },
  {
   "cell_type": "code",
   "execution_count": 50,
   "metadata": {},
   "outputs": [],
   "source": [
    "text = \"\"\"Hanoi's million-dollar villas become fish ponds\n",
    "\n",
    "By Quynh Nguyen   August 4, 2024 | 03:11 pm PT \n",
    "\n",
    "Seeing locals fish in the flooded basements of a row of villas on a Le Trong Tan street in Hanoi's Hoai Duc district, Tuan Anh and his 12-year-old daughter decided to join them.\n",
    "The 50-year-old says 9 are abandoned, and their basements are fully flooded, with the water nearly reaching the sidewalk outside. After a downpour on July 23 fish from nearby ponds were washed into the basements and became trapped.\n",
    "\n",
    "\"Seeing others catch tilapia, perch and carp, my daughter and I decided to try fishing too,\" he says.\n",
    "\n",
    "A man fishing for tilapia in the basement of a row of villas and shophouses on Le Trong Tan Street, Hanoi's Hoai Duc district, July 28, 2024. Photo by Pham Ha\n",
    "Four days earlier Pham Thi Ha, 33, of Ha Dong district, and her family noticed the flooded basements while passing by the villas, which are valued in the tens of billions of dong (VND10 billion = US$396,550).\n",
    "\n",
    "Since they had bait and fishing gear on hand, they decided to stop and fish. In less than two hours she caught over 20 fish, mostly tilapia, with the largest being the size of a hand. \"Fishing in the basement of these multibillion-dong villas felt really exciting,\" she says.\n",
    "\n",
    "Hanoi's million-dollar villas become fish ponds\n",
    "A video shows Ha’s relatives catching over 20 catfish in the basement of a villa in the Nam An Khanh Urban Area in Hanoi on July 28, 2024. Video by Pham Ha\n",
    "Le Duy Tan, 62, a security guard at a restaurant on Le Trong Tan Street, says people have been fishing in the flooded basements for nearly a week from afternoon to late night.\n",
    "\n",
    "Some people cast small mesh nets in front of the hatch but mostly caught small perch and tilapia, with few large fish, he says.\n",
    "\n",
    "He once saw a snakehead fish the size of an arm and large golden carps near the shore, but few managed to catch them. \"Most fish enter from nearby ponds, but some homeowners also buy fish to release and raise there.\"\n",
    "\n",
    "Quynh Hoa, 32, has been renting a shophouse since June 2023. Its basement has flooded three times, causing her losses. Initially she used sandbags to keep water out during heavy rains and multiple pumps to drain the water, but after seeing kids fish there, she decided to raise fish instead.\n",
    "\n",
    "She says: \"Neighbouring properties remain flooded year-round. Seeing children enjoy fishing there, I decided to release some fish last year and feed them rice or leftovers twice daily.\"\n",
    "\n",
    "Nine out of 15 basements in a row of shophouses and villas near on Le Trong Tan Street, Hanoi's Hoai Duc district, remain flooded on Aug. 1, 2024. Photo by VnExpress/ Quynh Nguyen\n",
    "Heavy rains from Typhoon Prapiroon on July 23-24 left residential areas and roads in An Khanh Urban Area in Hoai Duc District under 40-80 cm of water.\n",
    "\n",
    "The worst affected area was at the intersection of Nam An Khanh urban area and Geleximco Le Trong Tan residential urban area. The area has since dried up, but some basements in abandoned shophouses and villas remain flooded.\n",
    "\n",
    "Dr Dao Ngoc Nghiem, vice chairman of the Vietnam Urban Planning and Development Association and former director of Hanoi's Department of Planning and Architecture, says localized flooding has persisted for years across the city due to poor connections between local drainage systems and the city's main network.\n",
    "\n",
    "The situation is bad in many urban areas since wastewater and rainwater drains are combined, leading to increased flooding.\n",
    "\n",
    "Nghiem also notes that some underground drains are not regularly cleaned, leading to blockages, while shrinking channels, reservoirs and ponds mean their drainage capacity is low. \"Addressing these issues should prevent localised flooding in urban areas during heavy rains.\"\n",
    "\n",
    "Nguyen Thanh, who has lived in Hoai Duc District’s An Khanh Commune for nearly 50 years, says prolonged flooding has also worsened pollution in the area, with increased algae, mud and wastes. \"No one can imagine the bustling streets and million-dollar villas could have fish living amidst them and be a perfect spot for locals to fish.\"\n",
    "\"\"\""
   ]
  },
  {
   "cell_type": "code",
   "execution_count": 59,
   "metadata": {},
   "outputs": [],
   "source": [
    "word_count=100"
   ]
  },
  {
   "cell_type": "code",
   "execution_count": 52,
   "metadata": {},
   "outputs": [],
   "source": [
    "completion = client.chat.completions.create(\n",
    "    model=\"gpt-3.5-turbo\",\n",
    "    messages=[\n",
    "        {\n",
    "            \"role\": \"system\",\n",
    "            \"content\": \"You are ChatGPT, a helpful AI that excels at summarization. You always return a valid JSON object with only one key 'summarization'\",\n",
    "        },\n",
    "        {\n",
    "            \"role\": \"user\",\n",
    "            \"content\": prompt.format(text=text, word_count=word_count),\n",
    "        },\n",
    "    ],\n",
    "    pl_tags=[\"summarization_wtih_count\"],\n",
    "    response_format={\"type\": \"json_object\"},\n",
    ")"
   ]
  },
  {
   "cell_type": "code",
   "execution_count": 53,
   "metadata": {},
   "outputs": [
    {
     "data": {
      "text/plain": [
       "{'id': 'chatcmpl-9sia1hY0HfB8vI1f4fBG6DN7R8XSN',\n",
       " 'choices': [{'finish_reason': 'stop',\n",
       "   'index': 0,\n",
       "   'logprobs': None,\n",
       "   'message': {'content': '{\\n    \"summarization\": \"In Hanoi\\'s Hoai Duc district, flooded basements of abandoned villas have turned into impromptu fishing spots, attracting locals to catch fish like tilapia and carp washed in during heavy rains. Valued at billions of Vietnamese dong, these villas now host families enjoying the makeshift fishing experience. Despite neighboring properties being constantly flooded, some residents have opted to raise fish in their basements. Waterlogging concerns persist in the area due to poor drainage connections, leading to localized flooding and pollution, highlighting the need for improved urban planning and drainage systems.\"\\n}',\n",
       "    'role': 'assistant',\n",
       "    'function_call': None,\n",
       "    'tool_calls': None}}],\n",
       " 'created': 1722828105,\n",
       " 'model': 'gpt-3.5-turbo-0125',\n",
       " 'object': 'chat.completion',\n",
       " 'service_tier': None,\n",
       " 'system_fingerprint': None,\n",
       " 'usage': {'completion_tokens': 120,\n",
       "  'prompt_tokens': 1156,\n",
       "  'total_tokens': 1276}}"
      ]
     },
     "execution_count": 53,
     "metadata": {},
     "output_type": "execute_result"
    }
   ],
   "source": [
    "completion.dict()"
   ]
  },
  {
   "cell_type": "code",
   "execution_count": 54,
   "metadata": {},
   "outputs": [
    {
     "data": {
      "text/plain": [
       "\"In Hanoi's Hoai Duc district, flooded basements of abandoned villas have turned into impromptu fishing spots, attracting locals to catch fish like tilapia and carp washed in during heavy rains. Valued at billions of Vietnamese dong, these villas now host families enjoying the makeshift fishing experience. Despite neighboring properties being constantly flooded, some residents have opted to raise fish in their basements. Waterlogging concerns persist in the area due to poor drainage connections, leading to localized flooding and pollution, highlighting the need for improved urban planning and drainage systems.\""
      ]
     },
     "execution_count": 54,
     "metadata": {},
     "output_type": "execute_result"
    }
   ],
   "source": [
    "initial_summarization = json.loads(completion.choices[0].message.content)\n",
    "initial_summarization[\"summarization\"]"
   ]
  },
  {
   "cell_type": "code",
   "execution_count": 57,
   "metadata": {},
   "outputs": [],
   "source": [
    "def count_word(string):\n",
    "    words = string.split()\n",
    "    return len(words)"
   ]
  },
  {
   "cell_type": "code",
   "execution_count": 58,
   "metadata": {},
   "outputs": [
    {
     "data": {
      "text/plain": [
       "89"
      ]
     },
     "execution_count": 58,
     "metadata": {},
     "output_type": "execute_result"
    }
   ],
   "source": [
    "count_word(initial_summarization[\"summarization\"])"
   ]
  }
 ],
 "metadata": {
  "kernelspec": {
   "display_name": ".venv",
   "language": "python",
   "name": "python3"
  },
  "language_info": {
   "codemirror_mode": {
    "name": "ipython",
    "version": 3
   },
   "file_extension": ".py",
   "mimetype": "text/x-python",
   "name": "python",
   "nbconvert_exporter": "python",
   "pygments_lexer": "ipython3",
   "version": "3.12.2"
  }
 },
 "nbformat": 4,
 "nbformat_minor": 2
}
